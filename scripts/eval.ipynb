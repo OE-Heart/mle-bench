{
 "cells": [
  {
   "cell_type": "code",
   "execution_count": 37,
   "id": "532b8c1a",
   "metadata": {},
   "outputs": [],
   "source": [
    "import os\n",
    "import json\n",
    "import subprocess\n",
    "import numpy as np\n",
    "import matplotlib.pyplot as plt"
   ]
  },
  {
   "cell_type": "code",
   "execution_count": 38,
   "id": "b4cee567",
   "metadata": {},
   "outputs": [],
   "source": [
    "# Change these paths to your local setup\n",
    "eval_path = \"/zjunlp/oyx/mle-bench/runs/2025-05-11T02-52-01-GMT_run-group_aide/tensorflow-speech-recognition-challenge_6f2c29d6-70ba-4d88-ab20-ddf4cba34b96\"\n",
    "eval_task = eval_path.split(\"/\")[-1].split(\"_\")[0]\n",
    "data_dir = \"/newdisk1/oyx/mle-bench/data\""
   ]
  },
  {
   "cell_type": "code",
   "execution_count": 39,
   "id": "14202ac1",
   "metadata": {},
   "outputs": [],
   "source": [
    "baseline = {\n",
    "    \"aptos2019-blindness-detection\": 0.8543,\n",
    "    \"tgs-salt-identification-challenge\": 0.5007,\n",
    "    \"detecting-insults-in-social-commentary\": 0.83321,\n",
    "    \"spooky-author-identification\": 0.35512,\n",
    "    \"lmsys-chatbot-arena\": 1.03858,\n",
    "    \"us-patent-phrase-to-phrase-matching\": 0.8462,\n",
    "    \"stanford-covid-vaccine\": 0.31418,\n",
    "    \"champs-scalar-coupling\": 1.92074,\n",
    "    \"mlsp-2013-birds\": 0.89,\n",
    "    \"ventilator-pressure-prediction\": 0.71716,\n",
    "    \"google-quest-challenge\": 0.37959,\n",
    "    \"predict-volcanic-eruptions-ingv-oe\": 4035079,\n",
    "}"
   ]
  },
  {
   "cell_type": "code",
   "execution_count": 40,
   "id": "198c7ab9",
   "metadata": {},
   "outputs": [],
   "source": [
    "top = {\n",
    "    \"aptos2019-blindness-detection\": 0.936129,\n",
    "    \"tgs-salt-identification-challenge\": 0.89646,\n",
    "    \"detecting-insults-in-social-commentary\": 0.84248,\n",
    "    \"spooky-author-identification\": 0.320,\n",
    "    \"lmsys-chatbot-arena\": 0.96898,\n",
    "    \"us-patent-phrase-to-phrase-matching\": 0.8782,\n",
    "    \"stanford-covid-vaccine\": 0.34198,\n",
    "    \"champs-scalar-coupling\": -3.23968,\n",
    "    \"mlsp-2013-birds\": 0.95611,\n",
    "    \"ventilator-pressure-prediction\": 0.0575,\n",
    "    \"google-quest-challenge\": 0.43100,\n",
    "    \"predict-volcanic-eruptions-ingv-oe\": 3438191,\n",
    "}"
   ]
  },
  {
   "cell_type": "code",
   "execution_count": 41,
   "id": "df38b026",
   "metadata": {},
   "outputs": [],
   "source": [
    "metric_type = {\n",
    "    \"aptos2019-blindness-detection\": \"Max\",\n",
    "    \"tgs-salt-identification-challenge\": \"Max\",\n",
    "    \"detecting-insults-in-social-commentary\": \"Max\",\n",
    "    \"spooky-author-identification\": \"Min\",\n",
    "    \"lmsys-chatbot-arena\": \"Min\",\n",
    "    \"us-patent-phrase-to-phrase-matching\": \"Max\",\n",
    "    \"stanford-covid-vaccine\": \"Min\",\n",
    "    \"champs-scalar-coupling\": \"Min\",\n",
    "    \"mlsp-2013-birds\": \"Max\",\n",
    "    \"ventilator-pressure-prediction\": \"Min\",\n",
    "    \"google-quest-challenge\": \"Max\",\n",
    "    \"predict-volcanic-eruptions-ingv-oe\": \"Min\",\n",
    "}"
   ]
  },
  {
   "cell_type": "code",
   "execution_count": 42,
   "id": "38b19d0b",
   "metadata": {},
   "outputs": [
    {
     "name": "stdout",
     "output_type": "stream",
     "text": [
      "Score or beat ratio not found for submission 1.\n",
      "Score and beat ratio for submission 2: (0.31794, 20.78%)\n",
      "Score and beat ratio for submission 3: (0.31794, 20.78%)\n",
      "Score and beat ratio for submission 4: (0.31794, 20.78%)\n",
      "Score and beat ratio for submission 5: (0.31794, 20.78%)\n",
      "Score and beat ratio for submission 6: (0.31794, 20.78%)\n",
      "Score and beat ratio for submission 7: (0.31794, 20.78%)\n",
      "Score and beat ratio for submission 8: (0.31794, 20.78%)\n",
      "Score and beat ratio for submission 9: (0.31794, 20.78%)\n",
      "Score and beat ratio for submission 10: (0.31794, 20.78%)\n",
      "Score and beat ratio for submission 11: (0.31794, 20.78%)\n",
      "Score and beat ratio for submission 12: (0.31794, 20.78%)\n",
      "Score and beat ratio for submission 13: (0.31794, 20.78%)\n",
      "Score and beat ratio for submission 14: (0.31794, 20.78%)\n",
      "Score and beat ratio for submission 15: (0.31794, 20.78%)\n",
      "Score and beat ratio for submission 16: (0.31794, 20.78%)\n",
      "Score and beat ratio for submission 17: (0.31794, 20.78%)\n",
      "Score and beat ratio for submission 18: (0.31794, 20.78%)\n",
      "Score and beat ratio for submission 19: (0.31794, 20.78%)\n",
      "Score and beat ratio for submission 20: (0.31794, 20.78%)\n",
      "Score and beat ratio for submission 21: (0.31794, 20.78%)\n",
      "Score and beat ratio for submission 22: (0.31794, 20.78%)\n",
      "Score and beat ratio for submission 23: (0.31794, 20.78%)\n",
      "Score and beat ratio for submission 24: (0.31794, 20.78%)\n"
     ]
    }
   ],
   "source": [
    "scores = []\n",
    "beats = []\n",
    "for timestamp in range(1, 25):\n",
    "    submission_dir = os.path.join(eval_path, f\"save_{timestamp}/submission\")\n",
    "    if os.path.exists(submission_dir):\n",
    "        submission_path = os.path.join(submission_dir, f\"submission.csv\")\n",
    "        shell_script = f\"mlebench grade-sample {submission_path} {eval_task} --data-dir {data_dir}\"\n",
    "        result = subprocess.run(shell_script, shell=True, capture_output=True, text=True)\n",
    "        output = result.stderr\n",
    "        start = output.find('{')\n",
    "        end = output.rfind('}') + 1\n",
    "        json_str = output[start:end]\n",
    "\n",
    "        try:\n",
    "            json_data = json.loads(json_str)\n",
    "            score = json_data.get('score', None)\n",
    "            beat_ratio = json_data.get('beat_ratio', None)\n",
    "            if score is not None and beat_ratio is not None:\n",
    "                print(f\"Score and beat ratio for submission {timestamp}: ({score}, {beat_ratio * 100:.2f}%)\")\n",
    "            else:\n",
    "                print(f\"Score or beat ratio not found for submission {timestamp}.\")\n",
    "        except json.JSONDecodeError:\n",
    "            score = None\n",
    "            beat_ratio = None\n",
    "            print(f\"Error decoding JSON for submission {timestamp}.\")\n",
    "        scores.append(score)\n",
    "        beats.append(beat_ratio)\n",
    "    else:\n",
    "        print(f\"Submission at timestamp {timestamp} does not exist.\")\n"
   ]
  },
  {
   "cell_type": "code",
   "execution_count": 43,
   "id": "f14ce633",
   "metadata": {},
   "outputs": [
    {
     "data": {
      "text/plain": [
       "'[2025-05-12 15:37:02,025] [cli.py:224] Competition report:\\n[2025-05-12 15:37:02,026] [cli.py:225] {\\n    \"competition_id\": \"tensorflow-speech-recognition-challenge\",\\n    \"score\": 0.31794,\\n    \"gold_threshold\": 0.90485,\\n    \"silver_threshold\": 0.89627,\\n    \"bronze_threshold\": 0.88793,\\n    \"median_threshold\": 0.77722,\\n    \"any_medal\": false,\\n    \"gold_medal\": false,\\n    \"silver_medal\": false,\\n    \"bronze_medal\": false,\\n    \"above_median\": false,\\n    \"beat_ratio\": 0.20776255707762556,\\n    \"submission_exists\": true,\\n    \"valid_submission\": true,\\n    \"is_lower_better\": false,\\n    \"created_at\": \"2025-05-12T15:37:02.025682\",\\n    \"submission_path\": \"/zjunlp/oyx/mle-bench/runs/2025-05-11T02-52-01-GMT_run-group_aide/tensorflow-speech-recognition-challenge_6f2c29d6-70ba-4d88-ab20-ddf4cba34b96/save_24/submission/submission.csv\"\\n}\\n'"
      ]
     },
     "execution_count": 43,
     "metadata": {},
     "output_type": "execute_result"
    }
   ],
   "source": [
    "output"
   ]
  },
  {
   "cell_type": "code",
   "execution_count": 44,
   "id": "a837e4dd",
   "metadata": {},
   "outputs": [
    {
     "data": {
      "text/plain": [
       "array([None, 0.31794, 0.31794, 0.31794, 0.31794, 0.31794, 0.31794,\n",
       "       0.31794, 0.31794, 0.31794, 0.31794, 0.31794, 0.31794, 0.31794,\n",
       "       0.31794, 0.31794, 0.31794, 0.31794, 0.31794, 0.31794, 0.31794,\n",
       "       0.31794, 0.31794, 0.31794], dtype=object)"
      ]
     },
     "execution_count": 44,
     "metadata": {},
     "output_type": "execute_result"
    }
   ],
   "source": [
    "np.array(scores)"
   ]
  },
  {
   "cell_type": "code",
   "execution_count": 45,
   "id": "cdc66175",
   "metadata": {},
   "outputs": [
    {
     "ename": "KeyError",
     "evalue": "'tensorflow-speech-recognition-challenge'",
     "output_type": "error",
     "traceback": [
      "\u001b[0;31m---------------------------------------------------------------------------\u001b[0m",
      "\u001b[0;31mKeyError\u001b[0m                                  Traceback (most recent call last)",
      "Cell \u001b[0;32mIn[45], line 4\u001b[0m\n\u001b[1;32m      2\u001b[0m plt\u001b[38;5;241m.\u001b[39mplot(np\u001b[38;5;241m.\u001b[39marray(scores), linewidth\u001b[38;5;241m=\u001b[39m\u001b[38;5;241m2\u001b[39m, color\u001b[38;5;241m=\u001b[39m\u001b[38;5;124m'\u001b[39m\u001b[38;5;124mC0\u001b[39m\u001b[38;5;124m'\u001b[39m, label\u001b[38;5;241m=\u001b[39m\u001b[38;5;124m'\u001b[39m\u001b[38;5;124mmlagent (sbs)\u001b[39m\u001b[38;5;124m'\u001b[39m)\n\u001b[1;32m      3\u001b[0m \u001b[38;5;66;03m# plt.axhline(y=baseline[eval_task], color='C3', linestyle='--', linewidth=1, label='AIDE-24h')\u001b[39;00m\n\u001b[0;32m----> 4\u001b[0m plt\u001b[38;5;241m.\u001b[39maxhline(y\u001b[38;5;241m=\u001b[39m\u001b[43mtop\u001b[49m\u001b[43m[\u001b[49m\u001b[43meval_task\u001b[49m\u001b[43m]\u001b[49m, color\u001b[38;5;241m=\u001b[39m\u001b[38;5;124m'\u001b[39m\u001b[38;5;124mC4\u001b[39m\u001b[38;5;124m'\u001b[39m, linestyle\u001b[38;5;241m=\u001b[39m\u001b[38;5;124m'\u001b[39m\u001b[38;5;124m--\u001b[39m\u001b[38;5;124m'\u001b[39m, linewidth\u001b[38;5;241m=\u001b[39m\u001b[38;5;241m1\u001b[39m, label\u001b[38;5;241m=\u001b[39m\u001b[38;5;124m'\u001b[39m\u001b[38;5;124mHuman Top\u001b[39m\u001b[38;5;124m'\u001b[39m)\n\u001b[1;32m      6\u001b[0m plt\u001b[38;5;241m.\u001b[39mxlabel(\u001b[38;5;124m'\u001b[39m\u001b[38;5;124mTime (h)\u001b[39m\u001b[38;5;124m'\u001b[39m, fontsize\u001b[38;5;241m=\u001b[39m\u001b[38;5;241m12\u001b[39m)\n\u001b[1;32m      7\u001b[0m plt\u001b[38;5;241m.\u001b[39mylabel(\u001b[38;5;124mf\u001b[39m\u001b[38;5;124m'\u001b[39m\u001b[38;5;124mMetric (\u001b[39m\u001b[38;5;132;01m{\u001b[39;00mmetric_type[eval_task]\u001b[38;5;132;01m}\u001b[39;00m\u001b[38;5;124m)\u001b[39m\u001b[38;5;124m'\u001b[39m, fontsize\u001b[38;5;241m=\u001b[39m\u001b[38;5;241m12\u001b[39m)\n",
      "\u001b[0;31mKeyError\u001b[0m: 'tensorflow-speech-recognition-challenge'"
     ]
    },
    {
     "data": {
      "image/png": "[encoded data removed]",
      "text/plain": [
       "<Figure size 500x400 with 1 Axes>"
      ]
     },
     "metadata": {},
     "output_type": "display_data"
    }
   ],
   "source": [
    "plt.figure(figsize=(5, 4))\n",
    "plt.plot(np.array(scores), linewidth=2, color='C0', label='mlagent (sbs)')\n",
    "# plt.axhline(y=baseline[eval_task], color='C3', linestyle='--', linewidth=1, label='AIDE-24h')\n",
    "plt.axhline(y=top[eval_task], color='C4', linestyle='--', linewidth=1, label='Human Top')\n",
    "\n",
    "plt.xlabel('Time (h)', fontsize=12)\n",
    "plt.ylabel(f'Metric ({metric_type[eval_task]})', fontsize=12)\n",
    "\n",
    "plt.title(eval_task)\n",
    "plt.xticks(range(0, 25, 4))\n",
    "plt.legend(loc='best', fontsize=10)\n",
    "plt.grid(color='gray', linestyle='--', linewidth=1, alpha=0.8)\n",
    "\n",
    "plt.tight_layout()\n",
    "plt.show()"
   ]
  }
 ],
 "metadata": {
  "kernelspec": {
   "display_name": "agent",
   "language": "python",
   "name": "python3"
  },
  "language_info": {
   "codemirror_mode": {
    "name": "ipython",
    "version": 3
   },
   "file_extension": ".py",
   "mimetype": "text/x-python",
   "name": "python",
   "nbconvert_exporter": "python",
   "pygments_lexer": "ipython3",
   "version": "3.11.11"
  }
 },
 "nbformat": 4,
 "nbformat_minor": 5
}
